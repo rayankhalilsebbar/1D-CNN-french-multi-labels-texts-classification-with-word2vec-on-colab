{
  "nbformat": 4,
  "nbformat_minor": 0,
  "metadata": {
    "colab": {
      "name": "Q8 ProjetBMDATA.ipynb",
      "provenance": [],
      "collapsed_sections": [
        "Qloh4RDJbICB",
        "IPhy9D_ARE0N",
        "h6T-r-QAcb-6",
        "-emnEb49dDig",
        "nNJP2WS63X2h",
        "0gut4DCshh0X",
        "SuQzMmXXhusd",
        "AuVaTF5o3X2h",
        "REoXQkLZ3X2h",
        "hA_t1m7D3X2h",
        "-8ucjjkDMiH1"
      ],
      "toc_visible": true
    },
    "kernelspec": {
      "display_name": "Python 3",
      "language": "python",
      "name": "python3"
    },
    "language_info": {
      "codemirror_mode": {
        "name": "ipython",
        "version": 3
      },
      "file_extension": ".py",
      "mimetype": "text/x-python",
      "name": "python",
      "nbconvert_exporter": "python",
      "pygments_lexer": "ipython3",
      "version": "3.6.4"
    },
    "accelerator": "GPU"
  },
  "cells": [
    {
      "cell_type": "code",
      "metadata": {
        "id": "pD8MiatoKMm0",
        "colab": {
          "base_uri": "https://localhost:8080/"
        },
        "outputId": "1205c96e-50e5-48f8-d1f1-41b33ef48319"
      },
      "source": [
        "from google.colab import drive\n",
        "drive.mount('/content/drive')"
      ],
      "execution_count": 1,
      "outputs": [
        {
          "output_type": "stream",
          "text": [
            "Mounted at /content/drive\n"
          ],
          "name": "stdout"
        }
      ]
    },
    {
      "cell_type": "markdown",
      "metadata": {
        "id": "-LSa-mb9YwPo"
      },
      "source": [
        "# **French multi-labels texts classification with CNN and Word2vec**"
      ]
    },
    {
      "cell_type": "markdown",
      "metadata": {
        "id": "3Q-IzGDsZmMP"
      },
      "source": [
        "Nous allons analyser les réponses d'un sondage effectué auprès de personnes agées pour avoir leur ressenti sur la pandémie de Covid-19.\n",
        "\n",
        "Après avoir effectué un word embedding simple (tokenizer et indexation des mots) sur les données et lancé un CNN, nous nous sommes rendus compte qu'il fallait compenser le manque de données d'entrainement par un word embedding pré-entrainé sur la langue française.\n",
        "\n",
        "Nous allons présenter dans ce notebook les modèles nous ayant donné les meilleurs résultats"
      ]
    },
    {
      "cell_type": "markdown",
      "metadata": {
        "id": "Qloh4RDJbICB"
      },
      "source": [
        "# **0.1 Importation des librairies**"
      ]
    },
    {
      "cell_type": "code",
      "metadata": {
        "id": "UOK1uuep3X2f",
        "colab": {
          "base_uri": "https://localhost:8080/"
        },
        "outputId": "82db025e-5751-49be-8c3a-24dd9c962e50"
      },
      "source": [
        "import numpy as np\n",
        "import pandas as pd\n",
        "\n",
        "import argparse\n",
        "\n",
        "import matplotlib.pyplot as plt\n",
        "import re\n",
        "import tensorflow as tf\n",
        "from keras.preprocessing.sequence import pad_sequences\n",
        "from keras.preprocessing.text import Tokenizer \n",
        "from keras.models import Model\n",
        "from keras.layers import Input, Dense, Embedding, Dropout, Conv1D, GlobalMaxPooling1D\n",
        "from keras.callbacks import EarlyStopping, ModelCheckpoint\n",
        "from keras.utils.vis_utils import plot_model\n",
        "from sklearn.metrics import roc_auc_score\n",
        "\n",
        "import warnings\n",
        "warnings.simplefilter(action='ignore', category=FutureWarning)\n",
        "\n",
        "import string\n",
        "import re\n",
        "import nltk\n",
        "nltk.download('stopwords')\n",
        "from nltk.corpus import stopwords"
      ],
      "execution_count": 9,
      "outputs": [
        {
          "output_type": "stream",
          "text": [
            "[nltk_data] Downloading package stopwords to /root/nltk_data...\n",
            "[nltk_data]   Unzipping corpora/stopwords.zip.\n"
          ],
          "name": "stdout"
        }
      ]
    },
    {
      "cell_type": "markdown",
      "metadata": {
        "id": "IPhy9D_ARE0N"
      },
      "source": [
        "# **0.2 Séparation de chaque question en fichier CSV**"
      ]
    },
    {
      "cell_type": "code",
      "metadata": {
        "id": "6N5yY0-Q9Qvc"
      },
      "source": [
        "input_file = \"/content/drive/MyDrive/dataset/Projet/Data-questionnaires.xlsx\" # The excel filename to parse\n",
        "column = \"Catégorisation\" # Name of category column\n",
        "split = 500 # Split the file at this row\n",
        "header_row = 1 # Row number for headers\n",
        "\n",
        "Questions=['Question_3','Question_5', 'Question_8', 'Question_10', 'Question_14', 'Question_17', 'Question_18', 'Question_20', 'Question_21']\n",
        "#!mkdir 'DataQuestions'\n",
        "################################################################################\n",
        "\n",
        "df = pd.read_excel(input_file, header=header_row-1)\n",
        "\n",
        "# Split, save and continue without this section\n",
        "if split:\n",
        "    index = split - 1\n",
        "    df_without_category, df = df.iloc[index:], df.iloc[:index - 1]\n",
        "        \n",
        "    #question_number = 1\n",
        "    question_number = 0\n",
        "    # When \"Question\" in column name, keep this column and save\n",
        "    for col in df_without_category.columns:\n",
        "        if \"Question\" in col:\n",
        "            QuetCol = df_without_category[col]\n",
        "            QuetCol.dropna(how=\"all\", inplace=True)\n",
        "            QuetCol.to_csv(f\"nonlabeled_{Questions[question_number]}.csv\")\n",
        "            question_number += 1\n",
        "\n",
        "# Remove all lines without 1st question\n",
        "# df = df[df.iloc[:,0].notna()]\n",
        "\n",
        "columns = list(df.columns)\n",
        "\n",
        "# Keep column names\n",
        "categories = []\n",
        "data = []\n",
        "\n",
        "looking = False # Is category column ?\n",
        "for col in columns:\n",
        "    if not looking and \"Catégorisation\" in col:\n",
        "        looking = True\n",
        "        category = []\n",
        "    elif looking and \"Unnamed\" not in col:\n",
        "        looking = False\n",
        "        categories.append(category)\n",
        "    if looking:\n",
        "        category.append(col) \n",
        "# If last column is still a category\n",
        "if looking:\n",
        "    categories.append(category)\n",
        "\n",
        "\n",
        "new_df = pd.DataFrame()\n",
        "\n",
        "trn_tst = 0 # Split the file into train and test at this row\n",
        "Cats_by_Question = []\n",
        "# Iterate throught all columns\n",
        "# If data, insert it in new dataframe\n",
        "# Else process and insert formated category columns\n",
        "ques = 0\n",
        "for col in columns:\n",
        "    if \"Question\" in col:\n",
        "        num_question = col[8:]\n",
        "        #print(num_question)\n",
        "        new_df[col] = df[col].copy()\n",
        "    elif \"Catégorisation\" in col:\n",
        "        category_columns = categories[ques]\n",
        "        cat_df = df[category_columns]\n",
        "        number_of_cat = cat_df.max().max()\n",
        "        list_cat = [list(row[1].dropna()) for row in cat_df.iterrows()]\n",
        "        for i in range(1, int(number_of_cat)+1):\n",
        "            new_df[f\"category_{i}\"] = pd.Series([1 if i in row else 0 for row in list_cat])\n",
        "            \n",
        "        #category_index = Questions[ques] \n",
        "            \n",
        "        if trn_tst:\n",
        "          index = trn_tst - 1\n",
        "          df_test, df_train = new_df.iloc[index:], new_df.iloc[:index - 1]\n",
        "          df_train.dropna(inplace=True)\n",
        "          df_train.to_csv(f\"labeled_Question_{num_question}.csv\")\n",
        "          df_test.dropna(inplace=True)\n",
        "          df_test.to_csv(f\"test_Question_{num_question}.csv\")\n",
        "          cats = df_train.columns[1:].to_list()\n",
        "        else:\n",
        "          new_df.to_csv(f\"labeled_Question_{num_question}.csv\")\n",
        "          cats = new_df.columns[1:].to_list()\n",
        "\n",
        "        \n",
        "        Cats_by_Question.append(cats)\n",
        "        ques += 1  \n",
        "        new_df = pd.DataFrame()"
      ],
      "execution_count": 3,
      "outputs": []
    },
    {
      "cell_type": "markdown",
      "metadata": {
        "id": "h6T-r-QAcb-6"
      },
      "source": [
        "# **1.1 Importation et traitement de la question 8**"
      ]
    },
    {
      "cell_type": "code",
      "metadata": {
        "id": "cNtu4B8D91_W"
      },
      "source": [
        "df_train = pd.read_csv('./labeled_Question_8.csv')\n",
        "df_train = df_train.dropna(how='all')\n",
        "df_train = df_train[df_train['Question8'].notna()]\n",
        "df_train = df_train.reset_index(drop=True)\n",
        "del df_train['Unnamed: 0']\n",
        "\n",
        "df_test = pd.read_csv('./nonlabeled_Question_8.csv')\n",
        "df_test = df_test.dropna(how='all')\n",
        "df_test = df_test[df_test['Question8'].notna()]\n",
        "df_test = df_test.reset_index(drop=True)\n",
        "del df_test['Unnamed: 0']"
      ],
      "execution_count": 4,
      "outputs": []
    },
    {
      "cell_type": "code",
      "metadata": {
        "colab": {
          "base_uri": "https://localhost:8080/",
          "height": 281
        },
        "id": "y6E4Sqnz2DsG",
        "outputId": "4981bfbb-d7db-4bb6-9104-a1b3b729ce06"
      },
      "source": [
        "reponses_word_count = []\n",
        "\n",
        "for i in df_train['Question8']:\n",
        "      reponses_word_count.append(len(i.split()))\n",
        "\n",
        "for i in df_test['Question8']:\n",
        "      reponses_word_count.append(len(i.split()))\n",
        "\n",
        "length_df = pd.DataFrame({'Longueur des réponses':reponses_word_count})\n",
        "\n",
        "length_df.hist(bins = 100, range=(0,100),figsize=(8,4))\n",
        "plt.show()"
      ],
      "execution_count": 6,
      "outputs": [
        {
          "output_type": "display_data",
          "data": {
            "image/png": "[encoded data removed]",
            "text/plain": [
              "<Figure size 576x288 with 1 Axes>"
            ]
          },
          "metadata": {
            "tags": [],
            "needs_background": "light"
          }
        }
      ]
    },
    {
      "cell_type": "markdown",
      "metadata": {
        "id": "TYah7fqA4UXv"
      },
      "source": [
        "On remarque que les réponses sont assez courtes avec beaucoup de réponses d'un mot (oui ou non)."
      ]
    },
    {
      "cell_type": "code",
      "metadata": {
        "id": "4Y6Qyxao2j89"
      },
      "source": [
        "stop_words = set(stopwords.words('french'))\n",
        "\n",
        "def clean_reponses(df):\n",
        "  re_punc = re.compile('[%s]' % re.escape(string.punctuation))\n",
        "  #retire la ponctuation\n",
        "  tokens = [re_punc.sub(' ',reponse) for reponse in df]\n",
        "  #convertit en minuscules\n",
        "  tokens = [reponse.lower() for reponse in tokens]\n",
        "  \n",
        "  #split chaque réponse en liste de mots\n",
        "  reponses = []\n",
        "  reponses = [reponse.split() for reponse in tokens]\n",
        "  \n",
        "  #suppression des stop_words\n",
        "  for reponse in reponses:\n",
        "    for word in reponse:\n",
        "      if word in stop_words:\n",
        "        del reponse[reponse.index(word)]\n",
        "        \n",
        "  #suppression des mots de longueur <= 2\n",
        "  for reponse in reponses:\n",
        "    for word in reponse:\n",
        "      if len(word) <= 2:\n",
        "        del reponse[reponse.index(word)]\n",
        "  return reponses"
      ],
      "execution_count": 10,
      "outputs": []
    },
    {
      "cell_type": "code",
      "metadata": {
        "colab": {
          "base_uri": "https://localhost:8080/"
        },
        "id": "aMAhN7Nr2neV",
        "outputId": "dd41d2fe-7543-403d-8286-f887b5714134"
      },
      "source": [
        "rep_train = clean_reponses(df_train['Question8'])\n",
        "rep_test = clean_reponses(df_test['Question8'])\n",
        "l=[]\n",
        "\n",
        "for reponse in rep_train:\n",
        "  for word in reponse:\n",
        "    l.append(word)\n",
        "\n",
        "for reponse in rep_test:\n",
        "  for word in reponse:\n",
        "    l.append(word)\n",
        "\n",
        "#on affiche les mots les plus fréquents\n",
        "fdist = nltk.FreqDist(l)\n",
        "fdist.most_common(50)"
      ],
      "execution_count": 11,
      "outputs": [
        {
          "output_type": "execute_result",
          "data": {
            "text/plain": [
              "[('non', 2133),\n",
              " ('oui', 566),\n",
              " ('plus', 227),\n",
              " ('faire', 131),\n",
              " ('être', 111),\n",
              " ('car', 111),\n",
              " ('tout', 106),\n",
              " ('peut', 103),\n",
              " ('est', 103),\n",
              " ('confinement', 102),\n",
              " ('peu', 98),\n",
              " ('pense', 96),\n",
              " ('manque', 91),\n",
              " ('autonomie', 89),\n",
              " ('marche', 84),\n",
              " ('cela', 76),\n",
              " ('physique', 75),\n",
              " ('suis', 74),\n",
              " ('les', 74),\n",
              " ('fait', 72),\n",
              " ('une', 72),\n",
              " ('bien', 70),\n",
              " ('activités', 70),\n",
              " ('moins', 69),\n",
              " ('pas', 66),\n",
              " ('très', 63),\n",
              " ('courses', 60),\n",
              " ('perte', 59),\n",
              " ('pour', 58),\n",
              " ('nous', 56),\n",
              " ('perdre', 54),\n",
              " ('santé', 54),\n",
              " ('ans', 54),\n",
              " ('vie', 51),\n",
              " ('instant', 50),\n",
              " ('des', 50),\n",
              " ('marcher', 49),\n",
              " ('sans', 49),\n",
              " ('mon', 48),\n",
              " ('comme', 48),\n",
              " ('fais', 46),\n",
              " ('longtemps', 43),\n",
              " ('moment', 42),\n",
              " ('sortir', 40),\n",
              " ('cas', 39),\n",
              " ('liberté', 39),\n",
              " ('beaucoup', 39),\n",
              " ('physiques', 38),\n",
              " ('temps', 38),\n",
              " ('risque', 37)]"
            ]
          },
          "metadata": {
            "tags": []
          },
          "execution_count": 11
        }
      ]
    },
    {
      "cell_type": "markdown",
      "metadata": {
        "id": "-emnEb49dDig"
      },
      "source": [
        "# **1.2 Descriptions des catégories de la question 8**"
      ]
    },
    {
      "cell_type": "markdown",
      "metadata": {
        "id": "QBEKG-MQdM6D"
      },
      "source": [
        "A partir du fichier Word fournit, nous avons décidé d'affecter à chaque catégorie des mots-clés.\n",
        "\n",
        "Ces mots clés pourront ensuite être utilisé par le Word2Vec pré-entrainé et le réseau de neurones pour identifier une sémantique proche."
      ]
    },
    {
      "cell_type": "code",
      "metadata": {
        "colab": {
          "base_uri": "https://localhost:8080/",
          "height": 283
        },
        "id": "gDhLnOuwLuXr",
        "outputId": "2b63fe0b-807d-4a13-e784-be9366485da8"
      },
      "source": [
        "descriptions_categories = [ ('oui', 1,0,0,0,0,0,0),\n",
        "                           ('oui un peu peut être possible', 0,1,0,0,0,0,0),\n",
        "                           ('non', 0,0,1,0,0,0,0),\n",
        "                           ('non sauf mais si peut être', 0,0,0,1,0,0,0),\n",
        "                           ('cela dépendra dépendre durée trop long longtemps manque temps', 0,0,0,0,1,0,0),\n",
        "                           ('je ne sais pas', 0,0,0,0,0,1,0),\n",
        "                           ('non grande autonomie plus organiser faire', 0,0,0,0,0,0,1)]\n",
        "descriptions_df = pd.DataFrame(descriptions_categories, columns = ['Question8' , 'category_1', 'category_2','category_3', 'category_4', 'category_5','category_6','category_7'])\n",
        "descriptions_df"
      ],
      "execution_count": 12,
      "outputs": [
        {
          "output_type": "execute_result",
          "data": {
            "text/html": [
              "<div>\n",
              "<style scoped>\n",
              "    .dataframe tbody tr th:only-of-type {\n",
              "        vertical-align: middle;\n",
              "    }\n",
              "\n",
              "    .dataframe tbody tr th {\n",
              "        vertical-align: top;\n",
              "    }\n",
              "\n",
              "    .dataframe thead th {\n",
              "        text-align: right;\n",
              "    }\n",
              "</style>\n",
              "<table border=\"1\" class=\"dataframe\">\n",
              "  <thead>\n",
              "    <tr style=\"text-align: right;\">\n",
              "      <th></th>\n",
              "      <th>Question8</th>\n",
              "      <th>category_1</th>\n",
              "      <th>category_2</th>\n",
              "      <th>category_3</th>\n",
              "      <th>category_4</th>\n",
              "      <th>category_5</th>\n",
              "      <th>category_6</th>\n",
              "      <th>category_7</th>\n",
              "    </tr>\n",
              "  </thead>\n",
              "  <tbody>\n",
              "    <tr>\n",
              "      <th>0</th>\n",
              "      <td>oui</td>\n",
              "      <td>1</td>\n",
              "      <td>0</td>\n",
              "      <td>0</td>\n",
              "      <td>0</td>\n",
              "      <td>0</td>\n",
              "      <td>0</td>\n",
              "      <td>0</td>\n",
              "    </tr>\n",
              "    <tr>\n",
              "      <th>1</th>\n",
              "      <td>oui un peu peut être possible</td>\n",
              "      <td>0</td>\n",
              "      <td>1</td>\n",
              "      <td>0</td>\n",
              "      <td>0</td>\n",
              "      <td>0</td>\n",
              "      <td>0</td>\n",
              "      <td>0</td>\n",
              "    </tr>\n",
              "    <tr>\n",
              "      <th>2</th>\n",
              "      <td>non</td>\n",
              "      <td>0</td>\n",
              "      <td>0</td>\n",
              "      <td>1</td>\n",
              "      <td>0</td>\n",
              "      <td>0</td>\n",
              "      <td>0</td>\n",
              "      <td>0</td>\n",
              "    </tr>\n",
              "    <tr>\n",
              "      <th>3</th>\n",
              "      <td>non sauf mais si peut être</td>\n",
              "      <td>0</td>\n",
              "      <td>0</td>\n",
              "      <td>0</td>\n",
              "      <td>1</td>\n",
              "      <td>0</td>\n",
              "      <td>0</td>\n",
              "      <td>0</td>\n",
              "    </tr>\n",
              "    <tr>\n",
              "      <th>4</th>\n",
              "      <td>cela dépendra dépendre durée trop long longtem...</td>\n",
              "      <td>0</td>\n",
              "      <td>0</td>\n",
              "      <td>0</td>\n",
              "      <td>0</td>\n",
              "      <td>1</td>\n",
              "      <td>0</td>\n",
              "      <td>0</td>\n",
              "    </tr>\n",
              "    <tr>\n",
              "      <th>5</th>\n",
              "      <td>je ne sais pas</td>\n",
              "      <td>0</td>\n",
              "      <td>0</td>\n",
              "      <td>0</td>\n",
              "      <td>0</td>\n",
              "      <td>0</td>\n",
              "      <td>1</td>\n",
              "      <td>0</td>\n",
              "    </tr>\n",
              "    <tr>\n",
              "      <th>6</th>\n",
              "      <td>non grande autonomie plus organiser faire</td>\n",
              "      <td>0</td>\n",
              "      <td>1</td>\n",
              "      <td>0</td>\n",
              "      <td>0</td>\n",
              "      <td>0</td>\n",
              "      <td>0</td>\n",
              "      <td>1</td>\n",
              "    </tr>\n",
              "  </tbody>\n",
              "</table>\n",
              "</div>"
            ],
            "text/plain": [
              "                                           Question8  ...  category_7\n",
              "0                                                oui  ...           0\n",
              "1                      oui un peu peut être possible  ...           0\n",
              "2                                                non  ...           0\n",
              "3                         non sauf mais si peut être  ...           0\n",
              "4  cela dépendra dépendre durée trop long longtem...  ...           0\n",
              "5                                     je ne sais pas  ...           0\n",
              "6          non grande autonomie plus organiser faire  ...           1\n",
              "\n",
              "[7 rows x 8 columns]"
            ]
          },
          "metadata": {
            "tags": []
          },
          "execution_count": 12
        }
      ]
    },
    {
      "cell_type": "code",
      "metadata": {
        "id": "dTbKM8kW8q6l"
      },
      "source": [
        "df_train=df_train.append(descriptions_df,ignore_index=True)"
      ],
      "execution_count": 13,
      "outputs": []
    },
    {
      "cell_type": "markdown",
      "metadata": {
        "id": "DiyeuAyeeGEx"
      },
      "source": [
        "Ce dataframe de descriptions des catégories a ensuité été ajouté au dataframe des données d'entrainement, cette action s'est révélée efficace car notre test_accuracy est passé de 0.7 à 0.8 et le modèle a mieux prédis certaines catégories où les données étaient faibles"
      ]
    },
    {
      "cell_type": "markdown",
      "metadata": {
        "id": "nNJP2WS63X2h"
      },
      "source": [
        "# **2. Word embedding avec un Word2Vec de la langue française**"
      ]
    },
    {
      "cell_type": "markdown",
      "metadata": {
        "id": "BsDNkmdse8ar"
      },
      "source": [
        "Nous avons téléchargé un word2vec de la langue française pré-entrainé sur des pages web (notamment celles du journal Le Monde). Plusieurs word2vec étaient disponibles, nous avons choisi un \"skip\" au lieu d'un CBOW (bag of words) car il est mieux destiné à prédire le contexte d'un mot. \n",
        "\n",
        "Lien de téléchargement: https://fauconnier.github.io/\n",
        "\n",
        "Modèle: bin (120Mb) skip 200 (dim) 100 (cutoff)"
      ]
    },
    {
      "cell_type": "markdown",
      "metadata": {
        "id": "0gut4DCshh0X"
      },
      "source": [
        "**2.1 Chargement et présentation du modèle**"
      ]
    },
    {
      "cell_type": "code",
      "metadata": {
        "id": "KZbu90kR_F9P"
      },
      "source": [
        "# import Word2Vec loading capabilities\n",
        "from gensim.models import KeyedVectors\n",
        "\n",
        "# Creating the model\n",
        "embed_lookup = KeyedVectors.load_word2vec_format('/content/drive/MyDrive/dataset/frWac_non_lem_no_postag_no_phrase_200_skip_cut100.bin', \n",
        "                                                 binary=True)"
      ],
      "execution_count": 15,
      "outputs": []
    },
    {
      "cell_type": "code",
      "metadata": {
        "id": "WVEV2Gj0_YuB"
      },
      "source": [
        "# store pretrained vocab\n",
        "pretrained_words = []\n",
        "for word in embed_lookup.vocab:\n",
        "    pretrained_words.append(word)"
      ],
      "execution_count": 16,
      "outputs": []
    },
    {
      "cell_type": "code",
      "metadata": {
        "colab": {
          "base_uri": "https://localhost:8080/"
        },
        "id": "YXfNFyRv_a5n",
        "outputId": "6e1c6995-5572-4801-cec0-f3c4126fb3b4"
      },
      "source": [
        "row_idx = 1\n",
        "\n",
        "# get word/embedding in that row\n",
        "word = pretrained_words[row_idx] # get words by index\n",
        "embedding = embed_lookup[word] # embeddings by word\n",
        "\n",
        "# vocab and embedding info\n",
        "print(\"Taille du vocabulaire: {}\\n\".format(len(pretrained_words)))\n",
        "print('Taille des vecteurs de mot: {}\\n'.format(len(embedding)))\n",
        "#print('Associated embedding: \\n', embedding)"
      ],
      "execution_count": 17,
      "outputs": [
        {
          "output_type": "stream",
          "text": [
            "Taille du vocabulaire: 155562\n",
            "\n",
            "Taille des vecteurs de mot: 200\n",
            "\n"
          ],
          "name": "stdout"
        }
      ]
    },
    {
      "cell_type": "code",
      "metadata": {
        "colab": {
          "base_uri": "https://localhost:8080/"
        },
        "id": "fhUyRrubCgBQ",
        "outputId": "55fe47a0-6a20-42d3-b44f-b5c121931741"
      },
      "source": [
        "#Test de la similarité d'un mot\n",
        "find_similar_to = 'plus'\n",
        "\n",
        "print('Mots similaires à '+find_similar_to+': \\n')\n",
        "\n",
        "# Find similar words, using cosine similarity\n",
        "# by default shows top 10 similar words\n",
        "for similar_word in embed_lookup.similar_by_word(find_similar_to):\n",
        "    print(\"Mot: {0}, Similarité: {1:.3f}\".format(\n",
        "        similar_word[0], similar_word[1]\n",
        "    ))"
      ],
      "execution_count": 18,
      "outputs": [
        {
          "output_type": "stream",
          "text": [
            "Mots similaires à plus: \n",
            "\n",
            "Mot: encore, Similarité: 0.820\n",
            "Mot: peu, Similarité: 0.808\n",
            "Mot: moins, Similarité: 0.795\n",
            "Mot: surtout, Similarité: 0.788\n",
            "Mot: seulement, Similarité: 0.783\n",
            "Mot: aussi, Similarité: 0.781\n",
            "Mot: très, Similarité: 0.751\n",
            "Mot: pratiquement, Similarité: 0.747\n",
            "Mot: mais, Similarité: 0.742\n",
            "Mot: relativement, Similarité: 0.732\n"
          ],
          "name": "stdout"
        }
      ]
    },
    {
      "cell_type": "markdown",
      "metadata": {
        "id": "SuQzMmXXhusd"
      },
      "source": [
        "**2.2 Word embedding des réponses à la question 8**"
      ]
    },
    {
      "cell_type": "code",
      "metadata": {
        "colab": {
          "base_uri": "https://localhost:8080/"
        },
        "id": "PIoiJlzE-1cA",
        "outputId": "bca8022f-cc3e-408e-ca83-6a6b36174876"
      },
      "source": [
        "def tokenize_reponses(embed_lookup, reviews_split):\n",
        "  \n",
        "  reponses = clean_reponses(reviews_split)\n",
        "\n",
        "  tokenized_reponses = []\n",
        "  for reponse in reponses:\n",
        "    ints = []\n",
        "    for mot in reponse:\n",
        "      #si le mot est dans le vocab du word2vec alors on récupère son vecteur sinon 0\n",
        "      try:\n",
        "        idx = embed_lookup.vocab[mot].index\n",
        "      except: \n",
        "        idx = 0\n",
        "      ints.append(idx)\n",
        "    tokenized_reponses.append(ints)\n",
        "  return tokenized_reponses\n",
        "\n",
        "tokenized_reponses_train = tokenize_reponses(embed_lookup, df_train['Question8'])\n",
        "tokenized_reponses_test = tokenize_reponses(embed_lookup, df_test['Question8'])\n",
        "\n",
        "# testing code and printing a tokenized review\n",
        "print('Avant:', df_train['Question8'][1])\n",
        "print('Après:', tokenized_reponses_train[1])\n",
        "\n",
        "#on a attribué à chaque mot d'une réponse son index dans le vocabulaire du word2vec"
      ],
      "execution_count": 19,
      "outputs": [
        {
          "output_type": "stream",
          "text": [
            "Avant: non pas dans un avenir proche\n",
            "Après: [87, 16, 727, 1086]\n"
          ],
          "name": "stdout"
        }
      ]
    },
    {
      "cell_type": "markdown",
      "metadata": {
        "id": "AuVaTF5o3X2h"
      },
      "source": [
        "## 2.3 Padding des sequences obtenues"
      ]
    },
    {
      "cell_type": "code",
      "metadata": {
        "id": "VBw5wEBs3X2h"
      },
      "source": [
        "# Padding with zero\n",
        "features_train=pad_sequences(tokenized_reponses_train,maxlen=200,padding='post')\n",
        "features_test=pad_sequences(tokenized_reponses_test,maxlen=200,padding='post')\n",
        "#features_train[0]"
      ],
      "execution_count": 20,
      "outputs": []
    },
    {
      "cell_type": "markdown",
      "metadata": {
        "id": "REoXQkLZ3X2h"
      },
      "source": [
        "## 2.4 Séparation en train et valid sets"
      ]
    },
    {
      "cell_type": "code",
      "metadata": {
        "id": "BD9t-sH73X2h",
        "colab": {
          "base_uri": "https://localhost:8080/"
        },
        "outputId": "8bdbbab6-b40a-4ec4-e3df-4c066265cf0d"
      },
      "source": [
        "# Installing for Stratified Split\n",
        "!pip install iterative-stratification"
      ],
      "execution_count": 21,
      "outputs": [
        {
          "output_type": "stream",
          "text": [
            "Collecting iterative-stratification\n",
            "  Downloading https://files.pythonhosted.org/packages/9d/79/9ba64c8c07b07b8b45d80725b2ebd7b7884701c1da34f70d4749f7b45f9a/iterative_stratification-0.1.6-py3-none-any.whl\n",
            "Requirement already satisfied: numpy in /usr/local/lib/python3.6/dist-packages (from iterative-stratification) (1.18.5)\n",
            "Requirement already satisfied: scipy in /usr/local/lib/python3.6/dist-packages (from iterative-stratification) (1.4.1)\n",
            "Requirement already satisfied: scikit-learn in /usr/local/lib/python3.6/dist-packages (from iterative-stratification) (0.22.2.post1)\n",
            "Requirement already satisfied: joblib>=0.11 in /usr/local/lib/python3.6/dist-packages (from scikit-learn->iterative-stratification) (0.17.0)\n",
            "Installing collected packages: iterative-stratification\n",
            "Successfully installed iterative-stratification-0.1.6\n"
          ],
          "name": "stdout"
        }
      ]
    },
    {
      "cell_type": "code",
      "metadata": {
        "id": "GGavUrBG3X2h"
      },
      "source": [
        "from iterstrat.ml_stratifiers import MultilabelStratifiedShuffleSplit"
      ],
      "execution_count": 22,
      "outputs": []
    },
    {
      "cell_type": "code",
      "metadata": {
        "id": "aQi6d9VD3X2h"
      },
      "source": [
        "msss=MultilabelStratifiedShuffleSplit(n_splits=1, test_size=0.2, random_state=0)"
      ],
      "execution_count": 23,
      "outputs": []
    },
    {
      "cell_type": "code",
      "metadata": {
        "colab": {
          "base_uri": "https://localhost:8080/"
        },
        "id": "ETNXIVez3X2h",
        "outputId": "5075709c-5c02-4be7-eb0e-1d992778f3b5"
      },
      "source": [
        "y_train=df_train[['category_1','category_2','category_3','category_4','category_5','category_6','category_7']].values\n",
        "print('Shape of Training Labels=>',y_train.shape)"
      ],
      "execution_count": 24,
      "outputs": [
        {
          "output_type": "stream",
          "text": [
            "Shape of Training Labels=> (406, 7)\n"
          ],
          "name": "stdout"
        }
      ]
    },
    {
      "cell_type": "code",
      "metadata": {
        "id": "1Uii0jz23X2h"
      },
      "source": [
        "for train_index, val_index in msss.split(features_train, y_train):\n",
        "    # Creating Train Set\n",
        "    x_train_split,y_train_split=features_train[train_index],y_train[train_index]\n",
        "    # Creating Test Set\n",
        "    x_valid_split,y_valid_split=features_train[val_index],y_train[val_index]"
      ],
      "execution_count": 25,
      "outputs": []
    },
    {
      "cell_type": "code",
      "metadata": {
        "colab": {
          "base_uri": "https://localhost:8080/"
        },
        "id": "DODAGNug3X2h",
        "outputId": "7bf5a03c-91f6-4701-f982-5d2b5b1f8d8d"
      },
      "source": [
        "print('Shape of Train Split=>',x_train_split.shape,y_train_split.shape)\n",
        "print('Shape of Validation Split=>',x_valid_split.shape,y_valid_split.shape)"
      ],
      "execution_count": 26,
      "outputs": [
        {
          "output_type": "stream",
          "text": [
            "Shape of Train Split=> (324, 200) (324, 7)\n",
            "Shape of Validation Split=> (82, 200) (82, 7)\n"
          ],
          "name": "stdout"
        }
      ]
    },
    {
      "cell_type": "code",
      "metadata": {
        "id": "Ep_925YB3X2h",
        "colab": {
          "base_uri": "https://localhost:8080/"
        },
        "outputId": "08434cc3-dd3e-439c-8a34-86770b0d499d"
      },
      "source": [
        "print('Class Distribution of Train Split in Percentage')\n",
        "for i,v in enumerate(['category_1','category_2','category_3','category_4','category_5','category_6','category_7']):\n",
        "    print(v)\n",
        "    print(pd.Series(y_train_split[:,i]).value_counts(normalize=True)*100)"
      ],
      "execution_count": 27,
      "outputs": [
        {
          "output_type": "stream",
          "text": [
            "Class Distribution of Train Split in Percentage\n",
            "category_1\n",
            "0    89.506173\n",
            "1    10.493827\n",
            "dtype: float64\n",
            "category_2\n",
            "0    94.135802\n",
            "1     5.864198\n",
            "dtype: float64\n",
            "category_3\n",
            "1    65.432099\n",
            "0    34.567901\n",
            "dtype: float64\n",
            "category_4\n",
            "0    94.753086\n",
            "1     5.246914\n",
            "dtype: float64\n",
            "category_5\n",
            "0    94.444444\n",
            "1     5.555556\n",
            "dtype: float64\n",
            "category_6\n",
            "0    98.765432\n",
            "1     1.234568\n",
            "dtype: float64\n",
            "category_7\n",
            "0    98.765432\n",
            "1     1.234568\n",
            "dtype: float64\n"
          ],
          "name": "stdout"
        }
      ]
    },
    {
      "cell_type": "code",
      "metadata": {
        "id": "34Lua28Z3X2h",
        "colab": {
          "base_uri": "https://localhost:8080/"
        },
        "outputId": "5c2ee600-6361-4fbc-f893-c38f09cf7df2"
      },
      "source": [
        "print('Class Distribution of Validation Split in Percentage')\n",
        "for i,v in enumerate(['category_1','category_2','category_3','category_4','category_5','category_6','category_7']):\n",
        "    print(v)\n",
        "    print(pd.Series(y_valid_split[:,i]).value_counts(normalize=True)*100)"
      ],
      "execution_count": 28,
      "outputs": [
        {
          "output_type": "stream",
          "text": [
            "Class Distribution of Validation Split in Percentage\n",
            "category_1\n",
            "0    89.02439\n",
            "1    10.97561\n",
            "dtype: float64\n",
            "category_2\n",
            "0    93.902439\n",
            "1     6.097561\n",
            "dtype: float64\n",
            "category_3\n",
            "1    65.853659\n",
            "0    34.146341\n",
            "dtype: float64\n",
            "category_4\n",
            "0    95.121951\n",
            "1     4.878049\n",
            "dtype: float64\n",
            "category_5\n",
            "0    95.121951\n",
            "1     4.878049\n",
            "dtype: float64\n",
            "category_6\n",
            "0    98.780488\n",
            "1     1.219512\n",
            "dtype: float64\n",
            "category_7\n",
            "0    98.780488\n",
            "1     1.219512\n",
            "dtype: float64\n"
          ],
          "name": "stdout"
        }
      ]
    },
    {
      "cell_type": "markdown",
      "metadata": {
        "id": "On5kBHExisvR"
      },
      "source": [
        "On peut remarquer ici que certaines catégories sont très peu labelisées, raison de plus pour laquelle nous avons ajouté un descriptif des catégories aux données d'entrainement (partie 1.2)"
      ]
    },
    {
      "cell_type": "markdown",
      "metadata": {
        "id": "hA_t1m7D3X2h"
      },
      "source": [
        "# **3. Modeling**"
      ]
    },
    {
      "cell_type": "markdown",
      "metadata": {
        "id": "XUyN1D-gjUVo"
      },
      "source": [
        "Nous allons construire un CNN 1D, les vecteurs de chaque mot du Word2Vec pre-entrainé seront dans une première couche Embedding."
      ]
    },
    {
      "cell_type": "code",
      "metadata": {
        "id": "y8yyCbonVbpW",
        "colab": {
          "base_uri": "https://localhost:8080/"
        },
        "outputId": "f1f3fbd7-3b94-4e3c-d71f-7c39671ea507"
      },
      "source": [
        "from keras.models import Sequential\n",
        "from keras.layers import Dense, Input, Embedding, Flatten\n",
        "from keras.layers import Conv1D, MaxPooling1D\n",
        "from keras.initializers import Constant\n",
        "\n",
        "vocab_size = 155562\n",
        "max_length = 200\n",
        "embeddings_weights = embed_lookup.vectors\n",
        "embeddings_dim = 200\n",
        "\n",
        "# define the model\n",
        "model = Sequential()\n",
        "model.add(Embedding(vocab_size, embeddings_dim, input_length=max_length,\n",
        "                        embeddings_initializer=Constant(embeddings_weights),trainable=True))\n",
        "# model.add(Embedding(vocab_size, embeddings_dim, input_length=max_length))\n",
        "model.add(Conv1D(filters=352, kernel_size=7, activation='relu'))\n",
        "model.add(GlobalMaxPooling1D())\n",
        "model.add(Dense(128, activation='relu'))\n",
        "model.add(Dense(7, activation='sigmoid'))\n",
        "# compile network\n",
        "model.compile(loss='binary_crossentropy', optimizer='adam', metrics=['accuracy']) # summarize defined model\n",
        "model.summary()\n",
        "# plot_model(model, to_file='model.png', show_shapes=True)"
      ],
      "execution_count": 29,
      "outputs": [
        {
          "output_type": "stream",
          "text": [
            "Model: \"sequential\"\n",
            "_________________________________________________________________\n",
            "Layer (type)                 Output Shape              Param #   \n",
            "=================================================================\n",
            "embedding (Embedding)        (None, 200, 200)          31112400  \n",
            "_________________________________________________________________\n",
            "conv1d (Conv1D)              (None, 194, 352)          493152    \n",
            "_________________________________________________________________\n",
            "global_max_pooling1d (Global (None, 352)               0         \n",
            "_________________________________________________________________\n",
            "dense (Dense)                (None, 128)               45184     \n",
            "_________________________________________________________________\n",
            "dense_1 (Dense)              (None, 7)                 903       \n",
            "=================================================================\n",
            "Total params: 31,651,639\n",
            "Trainable params: 31,651,639\n",
            "Non-trainable params: 0\n",
            "_________________________________________________________________\n"
          ],
          "name": "stdout"
        }
      ]
    },
    {
      "cell_type": "code",
      "metadata": {
        "id": "VNKS_bBB3X2h",
        "colab": {
          "base_uri": "https://localhost:8080/",
          "height": 644
        },
        "outputId": "b4c00f11-8708-45ae-c83e-1e2b45220bf0"
      },
      "source": [
        "plot_model(model, to_file= 'model.png', show_shapes=True)"
      ],
      "execution_count": 30,
      "outputs": [
        {
          "output_type": "execute_result",
          "data": {
            "image/png": "[encoded data removed]",
            "text/plain": [
              "<IPython.core.display.Image object>"
            ]
          },
          "metadata": {
            "tags": []
          },
          "execution_count": 30
        }
      ]
    },
    {
      "cell_type": "code",
      "metadata": {
        "id": "bWB5GEPn3X2h"
      },
      "source": [
        "# Compile Model\n",
        "model.compile(optimizer='adam',loss='binary_crossentropy',metrics=[\"accuracy\"])"
      ],
      "execution_count": 31,
      "outputs": []
    },
    {
      "cell_type": "code",
      "metadata": {
        "colab": {
          "base_uri": "https://localhost:8080/"
        },
        "id": "KqbXwAxN3X2h",
        "outputId": "5e6a86be-5d4f-483b-ab61-9d153327113e"
      },
      "source": [
        "model.fit(x_train_split,y_train_split, batch_size=512, epochs=100, verbose=1, validation_data=(x_valid_split,y_valid_split))"
      ],
      "execution_count": 32,
      "outputs": [
        {
          "output_type": "stream",
          "text": [
            "Epoch 1/100\n",
            "1/1 [==============================] - 0s 169ms/step - loss: 0.6974 - accuracy: 0.0988 - val_loss: 0.6380 - val_accuracy: 0.6341\n",
            "Epoch 2/100\n",
            "1/1 [==============================] - 0s 23ms/step - loss: 0.6426 - accuracy: 0.6821 - val_loss: 0.5951 - val_accuracy: 0.6585\n",
            "Epoch 3/100\n",
            "1/1 [==============================] - 0s 21ms/step - loss: 0.6033 - accuracy: 0.6852 - val_loss: 0.5565 - val_accuracy: 0.6585\n",
            "Epoch 4/100\n",
            "1/1 [==============================] - 0s 23ms/step - loss: 0.5657 - accuracy: 0.6852 - val_loss: 0.5192 - val_accuracy: 0.6585\n",
            "Epoch 5/100\n",
            "1/1 [==============================] - 0s 23ms/step - loss: 0.5279 - accuracy: 0.6914 - val_loss: 0.4824 - val_accuracy: 0.6585\n",
            "Epoch 6/100\n",
            "1/1 [==============================] - 0s 26ms/step - loss: 0.4898 - accuracy: 0.6914 - val_loss: 0.4468 - val_accuracy: 0.6585\n",
            "Epoch 7/100\n",
            "1/1 [==============================] - 0s 25ms/step - loss: 0.4519 - accuracy: 0.6914 - val_loss: 0.4126 - val_accuracy: 0.6585\n",
            "Epoch 8/100\n",
            "1/1 [==============================] - 0s 23ms/step - loss: 0.4147 - accuracy: 0.6790 - val_loss: 0.3801 - val_accuracy: 0.6585\n",
            "Epoch 9/100\n",
            "1/1 [==============================] - 0s 22ms/step - loss: 0.3787 - accuracy: 0.6790 - val_loss: 0.3501 - val_accuracy: 0.6585\n",
            "Epoch 10/100\n",
            "1/1 [==============================] - 0s 22ms/step - loss: 0.3447 - accuracy: 0.6728 - val_loss: 0.3230 - val_accuracy: 0.6585\n",
            "Epoch 11/100\n",
            "1/1 [==============================] - 0s 21ms/step - loss: 0.3137 - accuracy: 0.6759 - val_loss: 0.3000 - val_accuracy: 0.6585\n",
            "Epoch 12/100\n",
            "1/1 [==============================] - 0s 22ms/step - loss: 0.2866 - accuracy: 0.6759 - val_loss: 0.2813 - val_accuracy: 0.6585\n",
            "Epoch 13/100\n",
            "1/1 [==============================] - 0s 21ms/step - loss: 0.2637 - accuracy: 0.6759 - val_loss: 0.2670 - val_accuracy: 0.6585\n",
            "Epoch 14/100\n",
            "1/1 [==============================] - 0s 22ms/step - loss: 0.2451 - accuracy: 0.6821 - val_loss: 0.2554 - val_accuracy: 0.6585\n",
            "Epoch 15/100\n",
            "1/1 [==============================] - 0s 23ms/step - loss: 0.2293 - accuracy: 0.6883 - val_loss: 0.2455 - val_accuracy: 0.6707\n",
            "Epoch 16/100\n",
            "1/1 [==============================] - 0s 22ms/step - loss: 0.2157 - accuracy: 0.6944 - val_loss: 0.2367 - val_accuracy: 0.6707\n",
            "Epoch 17/100\n",
            "1/1 [==============================] - 0s 23ms/step - loss: 0.2033 - accuracy: 0.7006 - val_loss: 0.2287 - val_accuracy: 0.6829\n",
            "Epoch 18/100\n",
            "1/1 [==============================] - 0s 24ms/step - loss: 0.1916 - accuracy: 0.7068 - val_loss: 0.2214 - val_accuracy: 0.7073\n",
            "Epoch 19/100\n",
            "1/1 [==============================] - 0s 22ms/step - loss: 0.1803 - accuracy: 0.7130 - val_loss: 0.2145 - val_accuracy: 0.7073\n",
            "Epoch 20/100\n",
            "1/1 [==============================] - 0s 23ms/step - loss: 0.1694 - accuracy: 0.7191 - val_loss: 0.2079 - val_accuracy: 0.7195\n",
            "Epoch 21/100\n",
            "1/1 [==============================] - 0s 23ms/step - loss: 0.1591 - accuracy: 0.7438 - val_loss: 0.2020 - val_accuracy: 0.6951\n",
            "Epoch 22/100\n",
            "1/1 [==============================] - 0s 30ms/step - loss: 0.1499 - accuracy: 0.7778 - val_loss: 0.1971 - val_accuracy: 0.6951\n",
            "Epoch 23/100\n",
            "1/1 [==============================] - 0s 28ms/step - loss: 0.1422 - accuracy: 0.7870 - val_loss: 0.1933 - val_accuracy: 0.7073\n",
            "Epoch 24/100\n",
            "1/1 [==============================] - 0s 23ms/step - loss: 0.1360 - accuracy: 0.7870 - val_loss: 0.1903 - val_accuracy: 0.7317\n",
            "Epoch 25/100\n",
            "1/1 [==============================] - 0s 22ms/step - loss: 0.1308 - accuracy: 0.8086 - val_loss: 0.1876 - val_accuracy: 0.7317\n",
            "Epoch 26/100\n",
            "1/1 [==============================] - 0s 22ms/step - loss: 0.1258 - accuracy: 0.8179 - val_loss: 0.1849 - val_accuracy: 0.7439\n",
            "Epoch 27/100\n",
            "1/1 [==============================] - 0s 22ms/step - loss: 0.1207 - accuracy: 0.8272 - val_loss: 0.1826 - val_accuracy: 0.7195\n",
            "Epoch 28/100\n",
            "1/1 [==============================] - 0s 23ms/step - loss: 0.1155 - accuracy: 0.8272 - val_loss: 0.1808 - val_accuracy: 0.7195\n",
            "Epoch 29/100\n",
            "1/1 [==============================] - 0s 21ms/step - loss: 0.1102 - accuracy: 0.8302 - val_loss: 0.1793 - val_accuracy: 0.7439\n",
            "Epoch 30/100\n",
            "1/1 [==============================] - 0s 24ms/step - loss: 0.1048 - accuracy: 0.8704 - val_loss: 0.1782 - val_accuracy: 0.7317\n",
            "Epoch 31/100\n",
            "1/1 [==============================] - 0s 22ms/step - loss: 0.0994 - accuracy: 0.8704 - val_loss: 0.1777 - val_accuracy: 0.7317\n",
            "Epoch 32/100\n",
            "1/1 [==============================] - 0s 23ms/step - loss: 0.0945 - accuracy: 0.8796 - val_loss: 0.1778 - val_accuracy: 0.7317\n",
            "Epoch 33/100\n",
            "1/1 [==============================] - 0s 22ms/step - loss: 0.0902 - accuracy: 0.8827 - val_loss: 0.1781 - val_accuracy: 0.7317\n",
            "Epoch 34/100\n",
            "1/1 [==============================] - 0s 22ms/step - loss: 0.0865 - accuracy: 0.8796 - val_loss: 0.1784 - val_accuracy: 0.7683\n",
            "Epoch 35/100\n",
            "1/1 [==============================] - 0s 22ms/step - loss: 0.0831 - accuracy: 0.8796 - val_loss: 0.1784 - val_accuracy: 0.7683\n",
            "Epoch 36/100\n",
            "1/1 [==============================] - 0s 22ms/step - loss: 0.0799 - accuracy: 0.8827 - val_loss: 0.1780 - val_accuracy: 0.7805\n",
            "Epoch 37/100\n",
            "1/1 [==============================] - 0s 21ms/step - loss: 0.0768 - accuracy: 0.8858 - val_loss: 0.1773 - val_accuracy: 0.7805\n",
            "Epoch 38/100\n",
            "1/1 [==============================] - 0s 21ms/step - loss: 0.0738 - accuracy: 0.8889 - val_loss: 0.1762 - val_accuracy: 0.7805\n",
            "Epoch 39/100\n",
            "1/1 [==============================] - 0s 22ms/step - loss: 0.0708 - accuracy: 0.8889 - val_loss: 0.1751 - val_accuracy: 0.7805\n",
            "Epoch 40/100\n",
            "1/1 [==============================] - 0s 23ms/step - loss: 0.0679 - accuracy: 0.8920 - val_loss: 0.1739 - val_accuracy: 0.7683\n",
            "Epoch 41/100\n",
            "1/1 [==============================] - 0s 21ms/step - loss: 0.0652 - accuracy: 0.8951 - val_loss: 0.1729 - val_accuracy: 0.7439\n",
            "Epoch 42/100\n",
            "1/1 [==============================] - 0s 22ms/step - loss: 0.0627 - accuracy: 0.8981 - val_loss: 0.1721 - val_accuracy: 0.7561\n",
            "Epoch 43/100\n",
            "1/1 [==============================] - 0s 22ms/step - loss: 0.0603 - accuracy: 0.9074 - val_loss: 0.1716 - val_accuracy: 0.7561\n",
            "Epoch 44/100\n",
            "1/1 [==============================] - 0s 22ms/step - loss: 0.0581 - accuracy: 0.9136 - val_loss: 0.1713 - val_accuracy: 0.7683\n",
            "Epoch 45/100\n",
            "1/1 [==============================] - 0s 22ms/step - loss: 0.0559 - accuracy: 0.9136 - val_loss: 0.1714 - val_accuracy: 0.7683\n",
            "Epoch 46/100\n",
            "1/1 [==============================] - 0s 23ms/step - loss: 0.0537 - accuracy: 0.9228 - val_loss: 0.1719 - val_accuracy: 0.7683\n",
            "Epoch 47/100\n",
            "1/1 [==============================] - 0s 22ms/step - loss: 0.0516 - accuracy: 0.9259 - val_loss: 0.1727 - val_accuracy: 0.7683\n",
            "Epoch 48/100\n",
            "1/1 [==============================] - 0s 22ms/step - loss: 0.0496 - accuracy: 0.9259 - val_loss: 0.1739 - val_accuracy: 0.7561\n",
            "Epoch 49/100\n",
            "1/1 [==============================] - 0s 22ms/step - loss: 0.0478 - accuracy: 0.9259 - val_loss: 0.1753 - val_accuracy: 0.7561\n",
            "Epoch 50/100\n",
            "1/1 [==============================] - 0s 23ms/step - loss: 0.0460 - accuracy: 0.9259 - val_loss: 0.1770 - val_accuracy: 0.7683\n",
            "Epoch 51/100\n",
            "1/1 [==============================] - 0s 22ms/step - loss: 0.0444 - accuracy: 0.9290 - val_loss: 0.1785 - val_accuracy: 0.7683\n",
            "Epoch 52/100\n",
            "1/1 [==============================] - 0s 23ms/step - loss: 0.0429 - accuracy: 0.9290 - val_loss: 0.1799 - val_accuracy: 0.7805\n",
            "Epoch 53/100\n",
            "1/1 [==============================] - 0s 22ms/step - loss: 0.0415 - accuracy: 0.9290 - val_loss: 0.1810 - val_accuracy: 0.7805\n",
            "Epoch 54/100\n",
            "1/1 [==============================] - 0s 22ms/step - loss: 0.0401 - accuracy: 0.9383 - val_loss: 0.1818 - val_accuracy: 0.7927\n",
            "Epoch 55/100\n",
            "1/1 [==============================] - 0s 22ms/step - loss: 0.0388 - accuracy: 0.9383 - val_loss: 0.1824 - val_accuracy: 0.7805\n",
            "Epoch 56/100\n",
            "1/1 [==============================] - 0s 23ms/step - loss: 0.0376 - accuracy: 0.9383 - val_loss: 0.1829 - val_accuracy: 0.7805\n",
            "Epoch 57/100\n",
            "1/1 [==============================] - 0s 21ms/step - loss: 0.0364 - accuracy: 0.9383 - val_loss: 0.1833 - val_accuracy: 0.7805\n",
            "Epoch 58/100\n",
            "1/1 [==============================] - 0s 23ms/step - loss: 0.0354 - accuracy: 0.9444 - val_loss: 0.1838 - val_accuracy: 0.7805\n",
            "Epoch 59/100\n",
            "1/1 [==============================] - 0s 23ms/step - loss: 0.0344 - accuracy: 0.9444 - val_loss: 0.1843 - val_accuracy: 0.7927\n",
            "Epoch 60/100\n",
            "1/1 [==============================] - 0s 21ms/step - loss: 0.0335 - accuracy: 0.9444 - val_loss: 0.1849 - val_accuracy: 0.7927\n",
            "Epoch 61/100\n",
            "1/1 [==============================] - 0s 23ms/step - loss: 0.0327 - accuracy: 0.9444 - val_loss: 0.1857 - val_accuracy: 0.7927\n",
            "Epoch 62/100\n",
            "1/1 [==============================] - 0s 21ms/step - loss: 0.0320 - accuracy: 0.9444 - val_loss: 0.1867 - val_accuracy: 0.7927\n",
            "Epoch 63/100\n",
            "1/1 [==============================] - 0s 22ms/step - loss: 0.0313 - accuracy: 0.9444 - val_loss: 0.1880 - val_accuracy: 0.7927\n",
            "Epoch 64/100\n",
            "1/1 [==============================] - 0s 24ms/step - loss: 0.0306 - accuracy: 0.9444 - val_loss: 0.1895 - val_accuracy: 0.7927\n",
            "Epoch 65/100\n",
            "1/1 [==============================] - 0s 23ms/step - loss: 0.0299 - accuracy: 0.9444 - val_loss: 0.1914 - val_accuracy: 0.8049\n",
            "Epoch 66/100\n",
            "1/1 [==============================] - 0s 22ms/step - loss: 0.0293 - accuracy: 0.9444 - val_loss: 0.1935 - val_accuracy: 0.8049\n",
            "Epoch 67/100\n",
            "1/1 [==============================] - 0s 21ms/step - loss: 0.0288 - accuracy: 0.9444 - val_loss: 0.1957 - val_accuracy: 0.8049\n",
            "Epoch 68/100\n",
            "1/1 [==============================] - 0s 21ms/step - loss: 0.0282 - accuracy: 0.9444 - val_loss: 0.1980 - val_accuracy: 0.8049\n",
            "Epoch 69/100\n",
            "1/1 [==============================] - 0s 23ms/step - loss: 0.0277 - accuracy: 0.9444 - val_loss: 0.2002 - val_accuracy: 0.8049\n",
            "Epoch 70/100\n",
            "1/1 [==============================] - 0s 22ms/step - loss: 0.0273 - accuracy: 0.9444 - val_loss: 0.2023 - val_accuracy: 0.8049\n",
            "Epoch 71/100\n",
            "1/1 [==============================] - 0s 23ms/step - loss: 0.0268 - accuracy: 0.9414 - val_loss: 0.2043 - val_accuracy: 0.8049\n",
            "Epoch 72/100\n",
            "1/1 [==============================] - 0s 24ms/step - loss: 0.0264 - accuracy: 0.9414 - val_loss: 0.2061 - val_accuracy: 0.8049\n",
            "Epoch 73/100\n",
            "1/1 [==============================] - 0s 24ms/step - loss: 0.0260 - accuracy: 0.9414 - val_loss: 0.2078 - val_accuracy: 0.8049\n",
            "Epoch 74/100\n",
            "1/1 [==============================] - 0s 24ms/step - loss: 0.0257 - accuracy: 0.9414 - val_loss: 0.2093 - val_accuracy: 0.8049\n",
            "Epoch 75/100\n",
            "1/1 [==============================] - 0s 23ms/step - loss: 0.0253 - accuracy: 0.9414 - val_loss: 0.2108 - val_accuracy: 0.8049\n",
            "Epoch 76/100\n",
            "1/1 [==============================] - 0s 26ms/step - loss: 0.0250 - accuracy: 0.9414 - val_loss: 0.2121 - val_accuracy: 0.8049\n",
            "Epoch 77/100\n",
            "1/1 [==============================] - 0s 22ms/step - loss: 0.0247 - accuracy: 0.9414 - val_loss: 0.2133 - val_accuracy: 0.8049\n",
            "Epoch 78/100\n",
            "1/1 [==============================] - 0s 23ms/step - loss: 0.0245 - accuracy: 0.9414 - val_loss: 0.2144 - val_accuracy: 0.8049\n",
            "Epoch 79/100\n",
            "1/1 [==============================] - 0s 22ms/step - loss: 0.0242 - accuracy: 0.9414 - val_loss: 0.2154 - val_accuracy: 0.8049\n",
            "Epoch 80/100\n",
            "1/1 [==============================] - 0s 21ms/step - loss: 0.0240 - accuracy: 0.9414 - val_loss: 0.2164 - val_accuracy: 0.8049\n",
            "Epoch 81/100\n",
            "1/1 [==============================] - 0s 23ms/step - loss: 0.0237 - accuracy: 0.9414 - val_loss: 0.2174 - val_accuracy: 0.8049\n",
            "Epoch 82/100\n",
            "1/1 [==============================] - 0s 23ms/step - loss: 0.0235 - accuracy: 0.9414 - val_loss: 0.2186 - val_accuracy: 0.8049\n",
            "Epoch 83/100\n",
            "1/1 [==============================] - 0s 21ms/step - loss: 0.0233 - accuracy: 0.9444 - val_loss: 0.2198 - val_accuracy: 0.8049\n",
            "Epoch 84/100\n",
            "1/1 [==============================] - 0s 24ms/step - loss: 0.0232 - accuracy: 0.9444 - val_loss: 0.2210 - val_accuracy: 0.8049\n",
            "Epoch 85/100\n",
            "1/1 [==============================] - 0s 22ms/step - loss: 0.0230 - accuracy: 0.9444 - val_loss: 0.2223 - val_accuracy: 0.8049\n",
            "Epoch 86/100\n",
            "1/1 [==============================] - 0s 24ms/step - loss: 0.0228 - accuracy: 0.9444 - val_loss: 0.2236 - val_accuracy: 0.8049\n",
            "Epoch 87/100\n",
            "1/1 [==============================] - 0s 23ms/step - loss: 0.0227 - accuracy: 0.9444 - val_loss: 0.2248 - val_accuracy: 0.8049\n",
            "Epoch 88/100\n",
            "1/1 [==============================] - 0s 24ms/step - loss: 0.0226 - accuracy: 0.9444 - val_loss: 0.2260 - val_accuracy: 0.8049\n",
            "Epoch 89/100\n",
            "1/1 [==============================] - 0s 26ms/step - loss: 0.0224 - accuracy: 0.9444 - val_loss: 0.2272 - val_accuracy: 0.8049\n",
            "Epoch 90/100\n",
            "1/1 [==============================] - 0s 23ms/step - loss: 0.0223 - accuracy: 0.9444 - val_loss: 0.2284 - val_accuracy: 0.8049\n",
            "Epoch 91/100\n",
            "1/1 [==============================] - 0s 22ms/step - loss: 0.0222 - accuracy: 0.9444 - val_loss: 0.2297 - val_accuracy: 0.8049\n",
            "Epoch 92/100\n",
            "1/1 [==============================] - 0s 22ms/step - loss: 0.0221 - accuracy: 0.9444 - val_loss: 0.2309 - val_accuracy: 0.8049\n",
            "Epoch 93/100\n",
            "1/1 [==============================] - 0s 23ms/step - loss: 0.0220 - accuracy: 0.9444 - val_loss: 0.2322 - val_accuracy: 0.8049\n",
            "Epoch 94/100\n",
            "1/1 [==============================] - 0s 24ms/step - loss: 0.0219 - accuracy: 0.9444 - val_loss: 0.2335 - val_accuracy: 0.8049\n",
            "Epoch 95/100\n",
            "1/1 [==============================] - 0s 22ms/step - loss: 0.0218 - accuracy: 0.9444 - val_loss: 0.2348 - val_accuracy: 0.8049\n",
            "Epoch 96/100\n",
            "1/1 [==============================] - 0s 28ms/step - loss: 0.0218 - accuracy: 0.9444 - val_loss: 0.2361 - val_accuracy: 0.8049\n",
            "Epoch 97/100\n",
            "1/1 [==============================] - 0s 24ms/step - loss: 0.0217 - accuracy: 0.9444 - val_loss: 0.2374 - val_accuracy: 0.8049\n",
            "Epoch 98/100\n",
            "1/1 [==============================] - 0s 25ms/step - loss: 0.0216 - accuracy: 0.9444 - val_loss: 0.2388 - val_accuracy: 0.7927\n",
            "Epoch 99/100\n",
            "1/1 [==============================] - 0s 23ms/step - loss: 0.0215 - accuracy: 0.9444 - val_loss: 0.2402 - val_accuracy: 0.7927\n",
            "Epoch 100/100\n",
            "1/1 [==============================] - 0s 22ms/step - loss: 0.0215 - accuracy: 0.9444 - val_loss: 0.2415 - val_accuracy: 0.7927\n"
          ],
          "name": "stdout"
        },
        {
          "output_type": "execute_result",
          "data": {
            "text/plain": [
              "<tensorflow.python.keras.callbacks.History at 0x7faee4779a90>"
            ]
          },
          "metadata": {
            "tags": []
          },
          "execution_count": 32
        }
      ]
    },
    {
      "cell_type": "code",
      "metadata": {
        "id": "n8bBKpJALw8z",
        "colab": {
          "base_uri": "https://localhost:8080/"
        },
        "outputId": "9511b737-404a-42b5-92a0-702037f446ef"
      },
      "source": [
        "# Evalute the trained model, using the test data (20% of the dataset)\n",
        "score = model.evaluate(x_valid_split, y_valid_split, batch_size=512)\n",
        "\n",
        "# Final testing accuracy, using the resevered 20% testing data\n",
        "print('Test accuracy:', score[1])"
      ],
      "execution_count": 34,
      "outputs": [
        {
          "output_type": "stream",
          "text": [
            "1/1 [==============================] - 0s 2ms/step - loss: 0.2415 - accuracy: 0.7927\n",
            "Test accuracy: 0.792682945728302\n"
          ],
          "name": "stdout"
        }
      ]
    },
    {
      "cell_type": "markdown",
      "metadata": {
        "id": "-8ucjjkDMiH1"
      },
      "source": [
        "# **4. Prédiction**"
      ]
    },
    {
      "cell_type": "code",
      "metadata": {
        "id": "k36sCLIK3X2i",
        "colab": {
          "base_uri": "https://localhost:8080/"
        },
        "outputId": "744b1956-11d1-4c2d-d66f-7f2eaf603794"
      },
      "source": [
        "# In-sample Evaluation\n",
        "train_pred=model.predict(x_train_split)\n",
        "print('In-sample Evaluation ROC-AUC Score:\\n',roc_auc_score(y_train_split,train_pred))"
      ],
      "execution_count": 35,
      "outputs": [
        {
          "output_type": "stream",
          "text": [
            "In-sample Evaluation ROC-AUC Score:\n",
            " 0.9921766779202615\n"
          ],
          "name": "stdout"
        }
      ]
    },
    {
      "cell_type": "code",
      "metadata": {
        "id": "GD_rx2i43X2i",
        "colab": {
          "base_uri": "https://localhost:8080/"
        },
        "outputId": "3c54ba1b-f24f-4909-f88c-f164bce29112"
      },
      "source": [
        "# Out-of-sample Evaluation\n",
        "valid_pred=model.predict(x_valid_split)\n",
        "print('In-sample Evaluation ROC-AUC Score:\\n',roc_auc_score(y_valid_split,valid_pred))"
      ],
      "execution_count": 36,
      "outputs": [
        {
          "output_type": "stream",
          "text": [
            "In-sample Evaluation ROC-AUC Score:\n",
            " 0.8882064605564278\n"
          ],
          "name": "stdout"
        }
      ]
    },
    {
      "cell_type": "code",
      "metadata": {
        "id": "qY98bcze3X2i"
      },
      "source": [
        "final_pred=model.predict(features_test)"
      ],
      "execution_count": 35,
      "outputs": []
    },
    {
      "cell_type": "code",
      "metadata": {
        "id": "vfeHF8rd3X2i"
      },
      "source": [
        "#Dataframe for final probabilties\n",
        "prob=pd.DataFrame(columns=['Question8','category_1','category_2','category_3','category_4','category_5','category_6','category_7'])\n",
        "prob['Question8']=df_test['Question8']\n",
        "for index,value in enumerate(['category_1','category_2','category_3','category_4','category_5','category_6','category_7']):\n",
        "    prob[value]=final_pred[:,index]"
      ],
      "execution_count": 36,
      "outputs": []
    },
    {
      "cell_type": "code",
      "metadata": {
        "id": "CbVILYAq3X2i",
        "colab": {
          "base_uri": "https://localhost:8080/",
          "height": 504
        },
        "outputId": "6e442701-9b48-42c6-9180-107069cb64a4"
      },
      "source": [
        "prob"
      ],
      "execution_count": 37,
      "outputs": [
        {
          "output_type": "execute_result",
          "data": {
            "text/html": [
              "<div>\n",
              "<style scoped>\n",
              "    .dataframe tbody tr th:only-of-type {\n",
              "        vertical-align: middle;\n",
              "    }\n",
              "\n",
              "    .dataframe tbody tr th {\n",
              "        vertical-align: top;\n",
              "    }\n",
              "\n",
              "    .dataframe thead th {\n",
              "        text-align: right;\n",
              "    }\n",
              "</style>\n",
              "<table border=\"1\" class=\"dataframe\">\n",
              "  <thead>\n",
              "    <tr style=\"text-align: right;\">\n",
              "      <th></th>\n",
              "      <th>Question8</th>\n",
              "      <th>category_1</th>\n",
              "      <th>category_2</th>\n",
              "      <th>category_3</th>\n",
              "      <th>category_4</th>\n",
              "      <th>category_5</th>\n",
              "      <th>category_6</th>\n",
              "      <th>category_7</th>\n",
              "    </tr>\n",
              "  </thead>\n",
              "  <tbody>\n",
              "    <tr>\n",
              "      <th>0</th>\n",
              "      <td>non</td>\n",
              "      <td>0.000218</td>\n",
              "      <td>0.000069</td>\n",
              "      <td>0.956917</td>\n",
              "      <td>0.011561</td>\n",
              "      <td>0.000016</td>\n",
              "      <td>0.000273</td>\n",
              "      <td>0.000140</td>\n",
              "    </tr>\n",
              "    <tr>\n",
              "      <th>1</th>\n",
              "      <td>Je n'ai besoin d'aucune aide et le confinement...</td>\n",
              "      <td>0.000029</td>\n",
              "      <td>0.001652</td>\n",
              "      <td>0.001977</td>\n",
              "      <td>0.000055</td>\n",
              "      <td>0.000160</td>\n",
              "      <td>0.000037</td>\n",
              "      <td>0.000055</td>\n",
              "    </tr>\n",
              "    <tr>\n",
              "      <th>2</th>\n",
              "      <td>Non</td>\n",
              "      <td>0.000218</td>\n",
              "      <td>0.000069</td>\n",
              "      <td>0.956917</td>\n",
              "      <td>0.011561</td>\n",
              "      <td>0.000016</td>\n",
              "      <td>0.000273</td>\n",
              "      <td>0.000140</td>\n",
              "    </tr>\n",
              "    <tr>\n",
              "      <th>3</th>\n",
              "      <td>oui,car dépendant,mes enfants tenant a ce que ...</td>\n",
              "      <td>0.123496</td>\n",
              "      <td>0.000118</td>\n",
              "      <td>0.000168</td>\n",
              "      <td>0.000121</td>\n",
              "      <td>0.000046</td>\n",
              "      <td>0.000016</td>\n",
              "      <td>0.000011</td>\n",
              "    </tr>\n",
              "    <tr>\n",
              "      <th>4</th>\n",
              "      <td>Oui. Plus de promenades, plus de déambulations...</td>\n",
              "      <td>0.665745</td>\n",
              "      <td>0.005359</td>\n",
              "      <td>0.000080</td>\n",
              "      <td>0.001165</td>\n",
              "      <td>0.002100</td>\n",
              "      <td>0.000780</td>\n",
              "      <td>0.000421</td>\n",
              "    </tr>\n",
              "    <tr>\n",
              "      <th>...</th>\n",
              "      <td>...</td>\n",
              "      <td>...</td>\n",
              "      <td>...</td>\n",
              "      <td>...</td>\n",
              "      <td>...</td>\n",
              "      <td>...</td>\n",
              "      <td>...</td>\n",
              "      <td>...</td>\n",
              "    </tr>\n",
              "    <tr>\n",
              "      <th>2915</th>\n",
              "      <td>oui bien entendu</td>\n",
              "      <td>0.097322</td>\n",
              "      <td>0.019161</td>\n",
              "      <td>0.035762</td>\n",
              "      <td>0.000279</td>\n",
              "      <td>0.001647</td>\n",
              "      <td>0.001733</td>\n",
              "      <td>0.000346</td>\n",
              "    </tr>\n",
              "    <tr>\n",
              "      <th>2916</th>\n",
              "      <td>Sur le long terme ...oui</td>\n",
              "      <td>0.010972</td>\n",
              "      <td>0.001017</td>\n",
              "      <td>0.000063</td>\n",
              "      <td>0.000245</td>\n",
              "      <td>0.972101</td>\n",
              "      <td>0.001051</td>\n",
              "      <td>0.000384</td>\n",
              "    </tr>\n",
              "    <tr>\n",
              "      <th>2917</th>\n",
              "      <td>le manque de relations sociales peut faire que...</td>\n",
              "      <td>0.000015</td>\n",
              "      <td>0.000531</td>\n",
              "      <td>0.007994</td>\n",
              "      <td>0.002416</td>\n",
              "      <td>0.000073</td>\n",
              "      <td>0.000046</td>\n",
              "      <td>0.000175</td>\n",
              "    </tr>\n",
              "    <tr>\n",
              "      <th>2918</th>\n",
              "      <td>non</td>\n",
              "      <td>0.000218</td>\n",
              "      <td>0.000069</td>\n",
              "      <td>0.956917</td>\n",
              "      <td>0.011561</td>\n",
              "      <td>0.000016</td>\n",
              "      <td>0.000273</td>\n",
              "      <td>0.000140</td>\n",
              "    </tr>\n",
              "    <tr>\n",
              "      <th>2919</th>\n",
              "      <td>a ce jour, non! Mais si la seconde vague n'est...</td>\n",
              "      <td>0.000037</td>\n",
              "      <td>0.000163</td>\n",
              "      <td>0.005691</td>\n",
              "      <td>0.000293</td>\n",
              "      <td>0.000072</td>\n",
              "      <td>0.000008</td>\n",
              "      <td>0.000055</td>\n",
              "    </tr>\n",
              "  </tbody>\n",
              "</table>\n",
              "<p>2920 rows × 8 columns</p>\n",
              "</div>"
            ],
            "text/plain": [
              "                                              Question8  ...  category_7\n",
              "0                                                   non  ...    0.000140\n",
              "1     Je n'ai besoin d'aucune aide et le confinement...  ...    0.000055\n",
              "2                                                   Non  ...    0.000140\n",
              "3     oui,car dépendant,mes enfants tenant a ce que ...  ...    0.000011\n",
              "4     Oui. Plus de promenades, plus de déambulations...  ...    0.000421\n",
              "...                                                 ...  ...         ...\n",
              "2915                                   oui bien entendu  ...    0.000346\n",
              "2916                           Sur le long terme ...oui  ...    0.000384\n",
              "2917  le manque de relations sociales peut faire que...  ...    0.000175\n",
              "2918                                                non  ...    0.000140\n",
              "2919  a ce jour, non! Mais si la seconde vague n'est...  ...    0.000055\n",
              "\n",
              "[2920 rows x 8 columns]"
            ]
          },
          "metadata": {
            "tags": []
          },
          "execution_count": 37
        }
      ]
    },
    {
      "cell_type": "markdown",
      "metadata": {
        "id": "gf5qi6JZkL0N"
      },
      "source": [
        "On remarque que le word2vec a bien aidé à prédire la réponse 2916 en attribuant la catégorie 5 qui se rapproche des mots clés (long, durée etc.)\n",
        "\n",
        "Sur certaines réponses où les probabilités peuvent paraître très faibles pour chaque catégorie, la prédiction reste bonne par exemple sur la réponse 3."
      ]
    },
    {
      "cell_type": "code",
      "metadata": {
        "colab": {
          "base_uri": "https://localhost:8080/",
          "height": 419
        },
        "id": "iwWkRSTLQUMz",
        "outputId": "ff1b0a48-6136-49ab-ce91-7c488f930c97"
      },
      "source": [
        "predictions=pd.DataFrame(columns=['Question8','Prédiction'])\n",
        "predictions['Question8']=df_test['Question8']\n",
        "\n",
        "for i in range(len(final_pred)):\n",
        "    maxi = np.where(final_pred[i] == np.max(final_pred[i]))\n",
        "    predictions['Prédiction'][i]=maxi[0]+1\n",
        "    \n",
        "predictions"
      ],
      "execution_count": 38,
      "outputs": [
        {
          "output_type": "execute_result",
          "data": {
            "text/html": [
              "<div>\n",
              "<style scoped>\n",
              "    .dataframe tbody tr th:only-of-type {\n",
              "        vertical-align: middle;\n",
              "    }\n",
              "\n",
              "    .dataframe tbody tr th {\n",
              "        vertical-align: top;\n",
              "    }\n",
              "\n",
              "    .dataframe thead th {\n",
              "        text-align: right;\n",
              "    }\n",
              "</style>\n",
              "<table border=\"1\" class=\"dataframe\">\n",
              "  <thead>\n",
              "    <tr style=\"text-align: right;\">\n",
              "      <th></th>\n",
              "      <th>Question8</th>\n",
              "      <th>Prédiction</th>\n",
              "    </tr>\n",
              "  </thead>\n",
              "  <tbody>\n",
              "    <tr>\n",
              "      <th>0</th>\n",
              "      <td>non</td>\n",
              "      <td>[3]</td>\n",
              "    </tr>\n",
              "    <tr>\n",
              "      <th>1</th>\n",
              "      <td>Je n'ai besoin d'aucune aide et le confinement...</td>\n",
              "      <td>[3]</td>\n",
              "    </tr>\n",
              "    <tr>\n",
              "      <th>2</th>\n",
              "      <td>Non</td>\n",
              "      <td>[3]</td>\n",
              "    </tr>\n",
              "    <tr>\n",
              "      <th>3</th>\n",
              "      <td>oui,car dépendant,mes enfants tenant a ce que ...</td>\n",
              "      <td>[1]</td>\n",
              "    </tr>\n",
              "    <tr>\n",
              "      <th>4</th>\n",
              "      <td>Oui. Plus de promenades, plus de déambulations...</td>\n",
              "      <td>[1]</td>\n",
              "    </tr>\n",
              "    <tr>\n",
              "      <th>...</th>\n",
              "      <td>...</td>\n",
              "      <td>...</td>\n",
              "    </tr>\n",
              "    <tr>\n",
              "      <th>2915</th>\n",
              "      <td>oui bien entendu</td>\n",
              "      <td>[1]</td>\n",
              "    </tr>\n",
              "    <tr>\n",
              "      <th>2916</th>\n",
              "      <td>Sur le long terme ...oui</td>\n",
              "      <td>[5]</td>\n",
              "    </tr>\n",
              "    <tr>\n",
              "      <th>2917</th>\n",
              "      <td>le manque de relations sociales peut faire que...</td>\n",
              "      <td>[3]</td>\n",
              "    </tr>\n",
              "    <tr>\n",
              "      <th>2918</th>\n",
              "      <td>non</td>\n",
              "      <td>[3]</td>\n",
              "    </tr>\n",
              "    <tr>\n",
              "      <th>2919</th>\n",
              "      <td>a ce jour, non! Mais si la seconde vague n'est...</td>\n",
              "      <td>[3]</td>\n",
              "    </tr>\n",
              "  </tbody>\n",
              "</table>\n",
              "<p>2920 rows × 2 columns</p>\n",
              "</div>"
            ],
            "text/plain": [
              "                                              Question8 Prédiction\n",
              "0                                                   non        [3]\n",
              "1     Je n'ai besoin d'aucune aide et le confinement...        [3]\n",
              "2                                                   Non        [3]\n",
              "3     oui,car dépendant,mes enfants tenant a ce que ...        [1]\n",
              "4     Oui. Plus de promenades, plus de déambulations...        [1]\n",
              "...                                                 ...        ...\n",
              "2915                                   oui bien entendu        [1]\n",
              "2916                           Sur le long terme ...oui        [5]\n",
              "2917  le manque de relations sociales peut faire que...        [3]\n",
              "2918                                                non        [3]\n",
              "2919  a ce jour, non! Mais si la seconde vague n'est...        [3]\n",
              "\n",
              "[2920 rows x 2 columns]"
            ]
          },
          "metadata": {
            "tags": []
          },
          "execution_count": 38
        }
      ]
    },
    {
      "cell_type": "markdown",
      "metadata": {
        "id": "Fg5bOeUmnEhL"
      },
      "source": [
        "On peut conclure que le modèle est bon mais peut encore être perfectionné en ajoutant des mots clés aux descriptifs des catégories et en ajoutant des données labelisées"
      ]
    }
  ]
}
